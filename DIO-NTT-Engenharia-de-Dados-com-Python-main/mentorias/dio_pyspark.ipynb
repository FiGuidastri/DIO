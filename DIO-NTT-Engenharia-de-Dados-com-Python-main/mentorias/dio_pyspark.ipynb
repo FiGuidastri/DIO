{
  "nbformat": 4,
  "nbformat_minor": 0,
  "metadata": {
    "colab": {
      "provenance": []
    },
    "kernelspec": {
      "name": "python3",
      "display_name": "Python 3"
    },
    "language_info": {
      "name": "python"
    }
  },
  "cells": [
    {
      "cell_type": "markdown",
      "source": [
        "# Utilizando Spark e Python com PySpark para análise de dados"
      ],
      "metadata": {
        "id": "lmOZcXGmoBkk"
      }
    },
    {
      "cell_type": "code",
      "execution_count": null,
      "metadata": {
        "colab": {
          "base_uri": "https://localhost:8080/"
        },
        "id": "BHQegLYfnmC-",
        "outputId": "965d2412-be62-471c-f6df-ad261d2ae47b"
      },
      "outputs": [
        {
          "output_type": "stream",
          "name": "stdout",
          "text": [
            "Collecting pyspark\n",
            "  Downloading pyspark-3.5.2.tar.gz (317.3 MB)\n",
            "\u001b[2K     \u001b[90m━━━━━━━━━━━━━━━━━━━━━━━━━━━━━━━━━━━━━━━━\u001b[0m \u001b[32m317.3/317.3 MB\u001b[0m \u001b[31m2.7 MB/s\u001b[0m eta \u001b[36m0:00:00\u001b[0m\n",
            "\u001b[?25h  Preparing metadata (setup.py) ... \u001b[?25l\u001b[?25hdone\n",
            "Requirement already satisfied: py4j==0.10.9.7 in /usr/local/lib/python3.10/dist-packages (from pyspark) (0.10.9.7)\n",
            "Building wheels for collected packages: pyspark\n",
            "  Building wheel for pyspark (setup.py) ... \u001b[?25l\u001b[?25hdone\n",
            "  Created wheel for pyspark: filename=pyspark-3.5.2-py2.py3-none-any.whl size=317812365 sha256=bf502e0629caf550afbf64093e389c2002717c5004a27bd4a25ea989c3522634\n",
            "  Stored in directory: /root/.cache/pip/wheels/34/34/bd/03944534c44b677cd5859f248090daa9fb27b3c8f8e5f49574\n",
            "Successfully built pyspark\n",
            "Installing collected packages: pyspark\n",
            "Successfully installed pyspark-3.5.2\n"
          ]
        }
      ],
      "source": [
        "!pip install pyspark"
      ]
    },
    {
      "cell_type": "code",
      "source": [
        "from pyspark.sql import SparkSession\n",
        "from pyspark.sql.functions import *"
      ],
      "metadata": {
        "id": "PvxGuXlSoPos"
      },
      "execution_count": null,
      "outputs": []
    },
    {
      "cell_type": "code",
      "source": [
        "# Criar spark session\n",
        "spark = SparkSession.builder.appName('Empresa').getOrCreate()\n",
        "\n",
        "# Criar dataframe de pessoas\n",
        "data = [\n",
        "    (1, \"Alice\", 25, \"F\", 5),\n",
        "    (2, \"Bob\", 30, \"M\", 5),\n",
        "    (3, \"Charlie\", 28, \"M\", 3),\n",
        "    (4, \"David\", 35, \"M\", 11),\n",
        "    (5, \"Eve\", 22, \"F\", 10),\n",
        "    (6, \"Fiona\", 29, \"F\", 5),\n",
        "    (7, \"George\", 31, \"M\", 4),\n",
        "    (8, \"Helen\", 27, \"F\", 3),\n",
        "    (9, \"Ian\", 33, \"M\", 17),\n",
        "    (10, \"Jane\", 26, \"F\", 18),\n",
        "    (11, \"Kevin\", 34, \"M\", 2),\n",
        "    (12, \"Linda\", 23, \"F\", 1),\n",
        "    (13, \"Mike\", 32, \"M\", 9),\n",
        "    (14, \"Nancy\", 28, \"F\", 8),\n",
        "    (15, \"Oliver\", 36, \"M\", 6),\n",
        "    (16, \"Patricia\", 24, \"F\", 13),\n",
        "    (17, \"Quentin\", 31, \"M\", 15),\n",
        "    (18, \"Rachel\", 29, \"F\", 16),\n",
        "    (19, \"Steve\", 35, \"M\", 4),\n",
        "    (20, \"Tina\", 27, \"F\", 4)\n",
        "]\n",
        "people_df = spark.createDataFrame(data, [\"person_id\", \"name\", \"age\", \"gender\", \"job_id\"])\n",
        "\n",
        "# Criar dataframe de trabalhos\n",
        "data = [\n",
        "    (1, \"Manager\", 60000),\n",
        "    (2, \"Developer\", 50000),\n",
        "    (3, \"Analyst\", 45000),\n",
        "    (4, \"Designer\", 55000),\n",
        "    (5, \"Tester\", 40000),\n",
        "    (6, \"Sales Representative\", 48000),\n",
        "    (7, \"Marketing Specialist\", 52000),\n",
        "    (8, \"Accountant\", 58000),\n",
        "    (9, \"HR Officer\", 47000),\n",
        "    (10, \"Operations Manager\", 62000),\n",
        "    (11, \"Project Manager\", 65000),\n",
        "    (12, \"Data Scientist\", 70000),\n",
        "    (13, \"Business Analyst\", 53000),\n",
        "    (14, \"IT Support\", 42000),\n",
        "    (15, \"Customer Service\", 43000),\n",
        "    (16, \"Executive Assistant\", 51000),\n",
        "    (17, \"Legal Counsel\", 80000),\n",
        "    (18, \"Financial Analyst\", 57000),\n",
        "    (19, \"Research Scientist\", 75000),\n",
        "    (20, \"Trainee\", 46000)\n",
        "]\n",
        "jobs_df = spark.createDataFrame(data, [\"job_id\", \"job_title\", \"salary\"])\n",
        "\n",
        "# show dataframes\n",
        "people_df.show()\n",
        "jobs_df.show()"
      ],
      "metadata": {
        "colab": {
          "base_uri": "https://localhost:8080/"
        },
        "id": "8OYgsLD0n8D7",
        "outputId": "3104685b-eca8-4278-8060-10f887778d8b"
      },
      "execution_count": null,
      "outputs": [
        {
          "output_type": "stream",
          "name": "stdout",
          "text": [
            "+---------+--------+---+------+------+\n",
            "|person_id|    name|age|gender|job_id|\n",
            "+---------+--------+---+------+------+\n",
            "|        1|   Alice| 25|     F|     5|\n",
            "|        2|     Bob| 30|     M|     5|\n",
            "|        3| Charlie| 28|     M|     3|\n",
            "|        4|   David| 35|     M|    11|\n",
            "|        5|     Eve| 22|     F|    10|\n",
            "|        6|   Fiona| 29|     F|     5|\n",
            "|        7|  George| 31|     M|     4|\n",
            "|        8|   Helen| 27|     F|     3|\n",
            "|        9|     Ian| 33|     M|    17|\n",
            "|       10|    Jane| 26|     F|    18|\n",
            "|       11|   Kevin| 34|     M|     2|\n",
            "|       12|   Linda| 23|     F|     1|\n",
            "|       13|    Mike| 32|     M|     9|\n",
            "|       14|   Nancy| 28|     F|     8|\n",
            "|       15|  Oliver| 36|     M|     6|\n",
            "|       16|Patricia| 24|     F|    13|\n",
            "|       17| Quentin| 31|     M|    15|\n",
            "|       18|  Rachel| 29|     F|    16|\n",
            "|       19|   Steve| 35|     M|     4|\n",
            "|       20|    Tina| 27|     F|     4|\n",
            "+---------+--------+---+------+------+\n",
            "\n",
            "+------+--------------------+------+\n",
            "|job_id|           job_title|salary|\n",
            "+------+--------------------+------+\n",
            "|     1|             Manager| 60000|\n",
            "|     2|           Developer| 50000|\n",
            "|     3|             Analyst| 45000|\n",
            "|     4|            Designer| 55000|\n",
            "|     5|              Tester| 40000|\n",
            "|     6|Sales Representative| 48000|\n",
            "|     7|Marketing Specialist| 52000|\n",
            "|     8|          Accountant| 58000|\n",
            "|     9|          HR Officer| 47000|\n",
            "|    10|  Operations Manager| 62000|\n",
            "|    11|     Project Manager| 65000|\n",
            "|    12|      Data Scientist| 70000|\n",
            "|    13|    Business Analyst| 53000|\n",
            "|    14|          IT Support| 42000|\n",
            "|    15|    Customer Service| 43000|\n",
            "|    16| Executive Assistant| 51000|\n",
            "|    17|       Legal Counsel| 80000|\n",
            "|    18|   Financial Analyst| 57000|\n",
            "|    19|  Research Scientist| 75000|\n",
            "|    20|             Trainee| 46000|\n",
            "+------+--------------------+------+\n",
            "\n"
          ]
        }
      ]
    },
    {
      "cell_type": "code",
      "source": [
        "# selecionar colunas\n",
        "people_df.select('name', 'age').show()"
      ],
      "metadata": {
        "colab": {
          "base_uri": "https://localhost:8080/"
        },
        "id": "dLneTMTroeKx",
        "outputId": "6ff2bd8c-3370-40d5-fd68-214d9fa95679"
      },
      "execution_count": null,
      "outputs": [
        {
          "output_type": "stream",
          "name": "stdout",
          "text": [
            "+--------+---+\n",
            "|    name|age|\n",
            "+--------+---+\n",
            "|   Alice| 25|\n",
            "|     Bob| 30|\n",
            "| Charlie| 28|\n",
            "|   David| 35|\n",
            "|     Eve| 22|\n",
            "|   Fiona| 29|\n",
            "|  George| 31|\n",
            "|   Helen| 27|\n",
            "|     Ian| 33|\n",
            "|    Jane| 26|\n",
            "|   Kevin| 34|\n",
            "|   Linda| 23|\n",
            "|    Mike| 32|\n",
            "|   Nancy| 28|\n",
            "|  Oliver| 36|\n",
            "|Patricia| 24|\n",
            "| Quentin| 31|\n",
            "|  Rachel| 29|\n",
            "|   Steve| 35|\n",
            "|    Tina| 27|\n",
            "+--------+---+\n",
            "\n"
          ]
        }
      ]
    },
    {
      "cell_type": "code",
      "source": [
        "# filtrar dados\n",
        "people_df.filter(col('age') > 30).select('name', 'age').show()"
      ],
      "metadata": {
        "colab": {
          "base_uri": "https://localhost:8080/"
        },
        "id": "eYlw0gFIqNt2",
        "outputId": "434d14f4-0de8-401b-9a30-c916926844a9"
      },
      "execution_count": null,
      "outputs": [
        {
          "output_type": "stream",
          "name": "stdout",
          "text": [
            "+-------+---+\n",
            "|   name|age|\n",
            "+-------+---+\n",
            "|  David| 35|\n",
            "| George| 31|\n",
            "|    Ian| 33|\n",
            "|  Kevin| 34|\n",
            "|   Mike| 32|\n",
            "| Oliver| 36|\n",
            "|Quentin| 31|\n",
            "|  Steve| 35|\n",
            "+-------+---+\n",
            "\n"
          ]
        }
      ]
    },
    {
      "cell_type": "code",
      "source": [
        "# agrupar e agregar dados\n",
        "people_df.groupBy('gender').count().show()"
      ],
      "metadata": {
        "colab": {
          "base_uri": "https://localhost:8080/"
        },
        "id": "JyQfgmi8qc9T",
        "outputId": "2fc2004b-d6c9-4322-90e3-4a5fd2904a1f"
      },
      "execution_count": null,
      "outputs": [
        {
          "output_type": "stream",
          "name": "stdout",
          "text": [
            "+------+-----+\n",
            "|gender|count|\n",
            "+------+-----+\n",
            "|     F|   10|\n",
            "|     M|   10|\n",
            "+------+-----+\n",
            "\n"
          ]
        }
      ]
    },
    {
      "cell_type": "code",
      "source": [
        "# ordenar os dados\n",
        "people_df.orderBy('age', ascending=False).show()"
      ],
      "metadata": {
        "colab": {
          "base_uri": "https://localhost:8080/"
        },
        "id": "WWNEirBXrT_k",
        "outputId": "4752384d-b49e-475a-ef28-d26ba203827f"
      },
      "execution_count": null,
      "outputs": [
        {
          "output_type": "stream",
          "name": "stdout",
          "text": [
            "+---------+--------+---+------+------+\n",
            "|person_id|    name|age|gender|job_id|\n",
            "+---------+--------+---+------+------+\n",
            "|       15|  Oliver| 36|     M|     6|\n",
            "|        4|   David| 35|     M|    11|\n",
            "|       19|   Steve| 35|     M|     4|\n",
            "|       11|   Kevin| 34|     M|     2|\n",
            "|        9|     Ian| 33|     M|    17|\n",
            "|       13|    Mike| 32|     M|     9|\n",
            "|        7|  George| 31|     M|     4|\n",
            "|       17| Quentin| 31|     M|    15|\n",
            "|        2|     Bob| 30|     M|     5|\n",
            "|       18|  Rachel| 29|     F|    16|\n",
            "|        6|   Fiona| 29|     F|     5|\n",
            "|       14|   Nancy| 28|     F|     8|\n",
            "|        3| Charlie| 28|     M|     3|\n",
            "|       20|    Tina| 27|     F|     4|\n",
            "|        8|   Helen| 27|     F|     3|\n",
            "|       10|    Jane| 26|     F|    18|\n",
            "|        1|   Alice| 25|     F|     5|\n",
            "|       16|Patricia| 24|     F|    13|\n",
            "|       12|   Linda| 23|     F|     1|\n",
            "|        5|     Eve| 22|     F|    10|\n",
            "+---------+--------+---+------+------+\n",
            "\n"
          ]
        }
      ]
    },
    {
      "cell_type": "markdown",
      "source": [
        "![image.png](data:image/png;base64,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)"
      ],
      "metadata": {
        "id": "GKgldiKur3uV"
      }
    },
    {
      "cell_type": "code",
      "source": [
        "# juntar dataframes\n",
        "people_df.alias('dfp').join(jobs_df.alias('dfj'), col('dfp.job_id') == col('dfj.job_id'), 'inner').show()"
      ],
      "metadata": {
        "colab": {
          "base_uri": "https://localhost:8080/"
        },
        "id": "SIwPSp4irvJo",
        "outputId": "711d3271-ed5a-4d47-b8ab-6ec6d8ee9f7b"
      },
      "execution_count": null,
      "outputs": [
        {
          "output_type": "stream",
          "name": "stdout",
          "text": [
            "+---------+--------+---+------+------+------+--------------------+------+\n",
            "|person_id|    name|age|gender|job_id|job_id|           job_title|salary|\n",
            "+---------+--------+---+------+------+------+--------------------+------+\n",
            "|       12|   Linda| 23|     F|     1|     1|             Manager| 60000|\n",
            "|       11|   Kevin| 34|     M|     2|     2|           Developer| 50000|\n",
            "|        3| Charlie| 28|     M|     3|     3|             Analyst| 45000|\n",
            "|        8|   Helen| 27|     F|     3|     3|             Analyst| 45000|\n",
            "|        7|  George| 31|     M|     4|     4|            Designer| 55000|\n",
            "|       19|   Steve| 35|     M|     4|     4|            Designer| 55000|\n",
            "|       20|    Tina| 27|     F|     4|     4|            Designer| 55000|\n",
            "|        1|   Alice| 25|     F|     5|     5|              Tester| 40000|\n",
            "|        2|     Bob| 30|     M|     5|     5|              Tester| 40000|\n",
            "|        6|   Fiona| 29|     F|     5|     5|              Tester| 40000|\n",
            "|       15|  Oliver| 36|     M|     6|     6|Sales Representative| 48000|\n",
            "|       14|   Nancy| 28|     F|     8|     8|          Accountant| 58000|\n",
            "|       13|    Mike| 32|     M|     9|     9|          HR Officer| 47000|\n",
            "|        5|     Eve| 22|     F|    10|    10|  Operations Manager| 62000|\n",
            "|        4|   David| 35|     M|    11|    11|     Project Manager| 65000|\n",
            "|       16|Patricia| 24|     F|    13|    13|    Business Analyst| 53000|\n",
            "|       17| Quentin| 31|     M|    15|    15|    Customer Service| 43000|\n",
            "|       18|  Rachel| 29|     F|    16|    16| Executive Assistant| 51000|\n",
            "|        9|     Ian| 33|     M|    17|    17|       Legal Counsel| 80000|\n",
            "|       10|    Jane| 26|     F|    18|    18|   Financial Analyst| 57000|\n",
            "+---------+--------+---+------+------+------+--------------------+------+\n",
            "\n"
          ]
        }
      ]
    },
    {
      "cell_type": "code",
      "source": [
        "# adicionar novas colunas\n",
        "people_df = people_df.withColumn('age_plus_10', col('age') + 10)\n",
        "people_df.show()"
      ],
      "metadata": {
        "colab": {
          "base_uri": "https://localhost:8080/"
        },
        "id": "tFhBILhlsQYO",
        "outputId": "761ce87a-5906-4bdf-cdc8-0437d4701327"
      },
      "execution_count": null,
      "outputs": [
        {
          "output_type": "stream",
          "name": "stdout",
          "text": [
            "+---------+--------+---+------+------+-----------+\n",
            "|person_id|    name|age|gender|job_id|age_plus_10|\n",
            "+---------+--------+---+------+------+-----------+\n",
            "|        1|   Alice| 25|     F|     5|         35|\n",
            "|        2|     Bob| 30|     M|     5|         40|\n",
            "|        3| Charlie| 28|     M|     3|         38|\n",
            "|        4|   David| 35|     M|    11|         45|\n",
            "|        5|     Eve| 22|     F|    10|         32|\n",
            "|        6|   Fiona| 29|     F|     5|         39|\n",
            "|        7|  George| 31|     M|     4|         41|\n",
            "|        8|   Helen| 27|     F|     3|         37|\n",
            "|        9|     Ian| 33|     M|    17|         43|\n",
            "|       10|    Jane| 26|     F|    18|         36|\n",
            "|       11|   Kevin| 34|     M|     2|         44|\n",
            "|       12|   Linda| 23|     F|     1|         33|\n",
            "|       13|    Mike| 32|     M|     9|         42|\n",
            "|       14|   Nancy| 28|     F|     8|         38|\n",
            "|       15|  Oliver| 36|     M|     6|         46|\n",
            "|       16|Patricia| 24|     F|    13|         34|\n",
            "|       17| Quentin| 31|     M|    15|         41|\n",
            "|       18|  Rachel| 29|     F|    16|         39|\n",
            "|       19|   Steve| 35|     M|     4|         45|\n",
            "|       20|    Tina| 27|     F|     4|         37|\n",
            "+---------+--------+---+------+------+-----------+\n",
            "\n"
          ]
        }
      ]
    },
    {
      "cell_type": "code",
      "source": [
        "# renomear colunas\n",
        "people_df = people_df.withColumnRenamed('age_plus_10', 'new_age')\n",
        "people_df.show()"
      ],
      "metadata": {
        "colab": {
          "base_uri": "https://localhost:8080/"
        },
        "id": "CfrOAf8js7-h",
        "outputId": "22baca80-72ce-4499-bc9d-540376a5cf6b"
      },
      "execution_count": null,
      "outputs": [
        {
          "output_type": "stream",
          "name": "stdout",
          "text": [
            "+---------+--------+---+------+------+-------+\n",
            "|person_id|    name|age|gender|job_id|new_age|\n",
            "+---------+--------+---+------+------+-------+\n",
            "|        1|   Alice| 25|     F|     5|     35|\n",
            "|        2|     Bob| 30|     M|     5|     40|\n",
            "|        3| Charlie| 28|     M|     3|     38|\n",
            "|        4|   David| 35|     M|    11|     45|\n",
            "|        5|     Eve| 22|     F|    10|     32|\n",
            "|        6|   Fiona| 29|     F|     5|     39|\n",
            "|        7|  George| 31|     M|     4|     41|\n",
            "|        8|   Helen| 27|     F|     3|     37|\n",
            "|        9|     Ian| 33|     M|    17|     43|\n",
            "|       10|    Jane| 26|     F|    18|     36|\n",
            "|       11|   Kevin| 34|     M|     2|     44|\n",
            "|       12|   Linda| 23|     F|     1|     33|\n",
            "|       13|    Mike| 32|     M|     9|     42|\n",
            "|       14|   Nancy| 28|     F|     8|     38|\n",
            "|       15|  Oliver| 36|     M|     6|     46|\n",
            "|       16|Patricia| 24|     F|    13|     34|\n",
            "|       17| Quentin| 31|     M|    15|     41|\n",
            "|       18|  Rachel| 29|     F|    16|     39|\n",
            "|       19|   Steve| 35|     M|     4|     45|\n",
            "|       20|    Tina| 27|     F|     4|     37|\n",
            "+---------+--------+---+------+------+-------+\n",
            "\n"
          ]
        }
      ]
    },
    {
      "cell_type": "code",
      "source": [
        "# agragando com calculo\n",
        "media_idade_por_genero = people_df.groupBy('gender').agg(avg('age'))\n",
        "media_idade_por_genero.show()"
      ],
      "metadata": {
        "colab": {
          "base_uri": "https://localhost:8080/"
        },
        "id": "d4T4Iv1CtO-H",
        "outputId": "a09f9279-5f5f-4d17-a0be-b1e9ef94844f"
      },
      "execution_count": null,
      "outputs": [
        {
          "output_type": "stream",
          "name": "stdout",
          "text": [
            "+------+--------+\n",
            "|gender|avg(age)|\n",
            "+------+--------+\n",
            "|     F|    26.0|\n",
            "|     M|    32.5|\n",
            "+------+--------+\n",
            "\n"
          ]
        }
      ]
    },
    {
      "cell_type": "code",
      "source": [
        "media_idade = people_df.agg(avg('age').alias('avg_age')).show()"
      ],
      "metadata": {
        "colab": {
          "base_uri": "https://localhost:8080/"
        },
        "id": "-efZMefjtv7g",
        "outputId": "0cf1372a-96d0-4131-8233-d7b5d3ddc982"
      },
      "execution_count": null,
      "outputs": [
        {
          "output_type": "stream",
          "name": "stdout",
          "text": [
            "+-------+\n",
            "|avg_age|\n",
            "+-------+\n",
            "|  29.25|\n",
            "+-------+\n",
            "\n"
          ]
        }
      ]
    },
    {
      "cell_type": "code",
      "source": [
        "# funções de string\n",
        "people_df.select(upper('name').alias('name')).show()\n",
        "people_df.withColumn(\"name\", upper(col(\"name\")))"
      ],
      "metadata": {
        "colab": {
          "base_uri": "https://localhost:8080/"
        },
        "id": "IHM-YAcAuIOg",
        "outputId": "78f8e3bb-41ac-4e5f-89ae-2622c770179d"
      },
      "execution_count": null,
      "outputs": [
        {
          "output_type": "stream",
          "name": "stdout",
          "text": [
            "+--------+\n",
            "|    name|\n",
            "+--------+\n",
            "|   ALICE|\n",
            "|     BOB|\n",
            "| CHARLIE|\n",
            "|   DAVID|\n",
            "|     EVE|\n",
            "|   FIONA|\n",
            "|  GEORGE|\n",
            "|   HELEN|\n",
            "|     IAN|\n",
            "|    JANE|\n",
            "|   KEVIN|\n",
            "|   LINDA|\n",
            "|    MIKE|\n",
            "|   NANCY|\n",
            "|  OLIVER|\n",
            "|PATRICIA|\n",
            "| QUENTIN|\n",
            "|  RACHEL|\n",
            "|   STEVE|\n",
            "|    TINA|\n",
            "+--------+\n",
            "\n"
          ]
        },
        {
          "output_type": "execute_result",
          "data": {
            "text/plain": [
              "DataFrame[person_id: bigint, name: string, age: bigint, gender: string, job_id: bigint, new_age: bigint]"
            ]
          },
          "metadata": {},
          "execution_count": 20
        }
      ]
    },
    {
      "cell_type": "markdown",
      "source": [
        "# Outras possibilidades"
      ],
      "metadata": {
        "id": "vpOn3ryYv0rd"
      }
    },
    {
      "cell_type": "code",
      "source": [
        "spark.read.table('path')\n",
        "spark.write().mode().option()\n",
        "\n",
        "# criar uma view temporária\n",
        "people_df.createOrReplaceTempView('people')\n",
        "jobs_df.createOrReplaceTempView('jobs')\n",
        "\n",
        "# usar spark sql para consultar dados\n",
        "result_df = spark.sql('SELECT p.name, j.job_title FROM people p JOIN jobs j ON p.job_id = j.job_id WHERE p.age > 30')\n",
        "result_df.show()"
      ],
      "metadata": {
        "id": "CPgn-ivcvnQu"
      },
      "execution_count": null,
      "outputs": []
    },
    {
      "cell_type": "code",
      "source": [
        "import matplotlib.pyplot as plt\n",
        "\n",
        "# agrupar por idade e contar o número de pessoas\n",
        "age_counts = people_df.groupBy('age').count().orderBy('age').collect()\n",
        "\n",
        "# extrair asa idades e as contagens\n",
        "ages = [row['age'] for row in age_counts]\n",
        "counts = [row['count'] for row in age_counts]\n",
        "\n",
        "# criar o gráfico\n",
        "plt.plot(ages, counts)\n",
        "plt.xlabel('Age')\n",
        "plt.ylabel('Count')\n",
        "plt.title('Count of People by Age')\n",
        "plt.show()"
      ],
      "metadata": {
        "colab": {
          "base_uri": "https://localhost:8080/",
          "height": 472
        },
        "id": "x2G83Lepwb0M",
        "outputId": "65f1cab7-1224-4350-b2f9-84baf41425e6"
      },
      "execution_count": null,
      "outputs": [
        {
          "output_type": "display_data",
          "data": {
            "text/plain": [
              "<Figure size 640x480 with 1 Axes>"
            ],
            "image/png": "[encoded data removed]"
          },
          "metadata": {}
        }
      ]
    },
    {
      "cell_type": "code",
      "source": [
        "# Lazy Evaluation:\n",
        "# Em Spark, a avaliação preguiçosa significa que as operações no DataFrame não são executadas imediatamente.\n",
        "# Em vez disso, um plano de execução é criado e as operações são executadas apenas quando uma ação é chamada.\n",
        "# Isso permite otimizar o processo de consulta, pois o Spark pode otimizar o plano de execução antes de executar as operações.\n",
        "\n",
        "# Exemplo:\n",
        "# Criando um DataFrame com uma transformação de filtro.\n",
        "filtered_df = people_df.filter(people_df[\"age\"] > 30)\n",
        "\n",
        "# A operação de filtro não é executada imediatamente.\n",
        "# O Spark cria um plano de execução para essa operação.\n",
        "\n",
        "# Agora, chamando uma ação para executar o plano de execução.\n",
        "filtered_df.show()\n",
        "\n",
        "# Diferença entre Ação e Transformação:\n",
        "\n",
        "# Transformação:\n",
        "# - Cria um novo DataFrame a partir do DataFrame existente.\n",
        "# - Não executa a operação imediatamente.\n",
        "# - Exemplos: filter, select, join, orderBy.\n",
        "\n",
        "# Ação:\n",
        "# - Executa a operação e retorna um resultado.\n",
        "# - Exemplos: show, count, collect, write.\n"
      ],
      "metadata": {
        "colab": {
          "base_uri": "https://localhost:8080/"
        },
        "id": "ExtmmbuOxcd1",
        "outputId": "430ec2a5-2259-4dc0-f08f-e7b0fcf6274a"
      },
      "execution_count": null,
      "outputs": [
        {
          "output_type": "stream",
          "name": "stdout",
          "text": [
            "+---------+-------+---+------+------+-------+\n",
            "|person_id|   name|age|gender|job_id|new_age|\n",
            "+---------+-------+---+------+------+-------+\n",
            "|        4|  David| 35|     M|    11|     45|\n",
            "|        7| George| 31|     M|     4|     41|\n",
            "|        9|    Ian| 33|     M|    17|     43|\n",
            "|       11|  Kevin| 34|     M|     2|     44|\n",
            "|       13|   Mike| 32|     M|     9|     42|\n",
            "|       15| Oliver| 36|     M|     6|     46|\n",
            "|       17|Quentin| 31|     M|    15|     41|\n",
            "|       19|  Steve| 35|     M|     4|     45|\n",
            "+---------+-------+---+------+------+-------+\n",
            "\n"
          ]
        }
      ]
    },
    {
      "cell_type": "code",
      "source": [
        "# Utilize o método `explain()` para visualizar o plano de execução de uma consulta.\n",
        "# Isso ajuda a entender como o Spark está otimizando a consulta.\n",
        "filtered_df = people_df.filter(people_df[\"age\"] > 30)\n",
        "filtered_df.explain()\n",
        "\n",
        "# Utilize o método `withColumn()` para adicionar novas colunas a um DataFrame.\n",
        "# Utilize nomes de colunas descritivos e consistentes.\n",
        "people_df = (\n",
        "    people_df.withColumn(\n",
        "        \"age_category\",\n",
        "        when(col(\"age\") < 30, \"Jovem\")\n",
        "        .when((col(\"age\") >= 30) & (col(\"age\") < 50), \"Adulto\")\n",
        "        .otherwise(\"Idoso\")\n",
        "    )\n",
        ")\n",
        "people_df.show()\n",
        "\n",
        "# Utilize o método `filter()` para filtrar linhas em um DataFrame.\n",
        "# Utilize condições claras e precisas para filtrar os dados.\n",
        "filtered_df = people_df.filter((col(\"age\") > 25) & (col(\"gender\") == \"F\"))\n",
        "\n",
        "# Utilize o método `drop()` para remover colunas de um DataFrame.\n",
        "# Remova colunas que não são mais necessárias.\n",
        "dropped_df = people_df.drop(\"new_age\")\n",
        "\n",
        "# Utilize o método `distinct()` para remover linhas duplicadas de um DataFrame.\n",
        "distinct_df = people_df.distinct()"
      ],
      "metadata": {
        "colab": {
          "base_uri": "https://localhost:8080/"
        },
        "id": "Kpbq-rSjyQT5",
        "outputId": "cd863873-fceb-41a1-ee1a-ecf871418285"
      },
      "execution_count": null,
      "outputs": [
        {
          "output_type": "stream",
          "name": "stdout",
          "text": [
            "== Physical Plan ==\n",
            "*(1) Project [person_id#0L, name#1, age#2L, gender#3, job_id#4L, (age#2L + 10) AS new_age#263L]\n",
            "+- *(1) Filter (isnotnull(age#2L) AND (age#2L > 30))\n",
            "   +- *(1) Scan ExistingRDD[person_id#0L,name#1,age#2L,gender#3,job_id#4L]\n",
            "\n",
            "\n",
            "+---------+--------+---+------+------+-------+------------+\n",
            "|person_id|    name|age|gender|job_id|new_age|age_category|\n",
            "+---------+--------+---+------+------+-------+------------+\n",
            "|        1|   Alice| 25|     F|     5|     35|       Jovem|\n",
            "|        2|     Bob| 30|     M|     5|     40|      Adulto|\n",
            "|        3| Charlie| 28|     M|     3|     38|       Jovem|\n",
            "|        4|   David| 35|     M|    11|     45|      Adulto|\n",
            "|        5|     Eve| 22|     F|    10|     32|       Jovem|\n",
            "|        6|   Fiona| 29|     F|     5|     39|       Jovem|\n",
            "|        7|  George| 31|     M|     4|     41|      Adulto|\n",
            "|        8|   Helen| 27|     F|     3|     37|       Jovem|\n",
            "|        9|     Ian| 33|     M|    17|     43|      Adulto|\n",
            "|       10|    Jane| 26|     F|    18|     36|       Jovem|\n",
            "|       11|   Kevin| 34|     M|     2|     44|      Adulto|\n",
            "|       12|   Linda| 23|     F|     1|     33|       Jovem|\n",
            "|       13|    Mike| 32|     M|     9|     42|      Adulto|\n",
            "|       14|   Nancy| 28|     F|     8|     38|       Jovem|\n",
            "|       15|  Oliver| 36|     M|     6|     46|      Adulto|\n",
            "|       16|Patricia| 24|     F|    13|     34|       Jovem|\n",
            "|       17| Quentin| 31|     M|    15|     41|      Adulto|\n",
            "|       18|  Rachel| 29|     F|    16|     39|       Jovem|\n",
            "|       19|   Steve| 35|     M|     4|     45|      Adulto|\n",
            "|       20|    Tina| 27|     F|     4|     37|       Jovem|\n",
            "+---------+--------+---+------+------+-------+------------+\n",
            "\n"
          ]
        }
      ]
    },
    {
      "cell_type": "code",
      "source": [
        "# Desafio 1:\n",
        "# Encontre a idade máxima das pessoas do sexo feminino.\n",
        "people_df.filter(people_df[\"gender\"] == \"F\").agg({\"age\": \"max\"}).show()\n",
        "\n"
      ],
      "metadata": {
        "colab": {
          "base_uri": "https://localhost:8080/"
        },
        "id": "-Oar6505ypgk",
        "outputId": "f069fe63-629e-4a97-9076-1cd05470374b"
      },
      "execution_count": null,
      "outputs": [
        {
          "output_type": "stream",
          "name": "stdout",
          "text": [
            "+--------+\n",
            "|max(age)|\n",
            "+--------+\n",
            "|      29|\n",
            "+--------+\n",
            "\n"
          ]
        }
      ]
    },
    {
      "cell_type": "code",
      "source": [
        "# Desafio 2:\n",
        "# Crie uma nova coluna chamada \"salary_category\" no dataframe \"people_df\" que categorize o salário\n",
        "# em \"Baixo\" para salários menores que 55000, \"Médio\" para salários entre 55000 e 65000 e \"Alto\" para salários maiores que 65000.\n",
        "# Utilize a coluna \"job_id\" para fazer a junção com o dataframe \"jobs_df\" e obter o salário.\n",
        "jobs_df = (\n",
        "    jobs_df.withColumn(\n",
        "        \"salary_category\",\n",
        "        when(col(\"salary\") < 55000, \"Baixo\")\n",
        "        .when((col(\"salary\") >= 55000) & (col(\"salary\") <= 65000), \"Médio\")\n",
        "        .otherwise(\"Alto\")\n",
        "    )\n",
        ")\n",
        "jobs_df.show()"
      ],
      "metadata": {
        "colab": {
          "base_uri": "https://localhost:8080/"
        },
        "id": "NNjnIFrDzfPN",
        "outputId": "ee731fc2-81aa-4dd5-9857-d56389065ee7"
      },
      "execution_count": null,
      "outputs": [
        {
          "output_type": "stream",
          "name": "stdout",
          "text": [
            "+------+--------------------+------+---------------+\n",
            "|job_id|           job_title|salary|salary_category|\n",
            "+------+--------------------+------+---------------+\n",
            "|     1|             Manager| 60000|          Médio|\n",
            "|     2|           Developer| 50000|          Baixo|\n",
            "|     3|             Analyst| 45000|          Baixo|\n",
            "|     4|            Designer| 55000|          Médio|\n",
            "|     5|              Tester| 40000|          Baixo|\n",
            "|     6|Sales Representative| 48000|          Baixo|\n",
            "|     7|Marketing Specialist| 52000|          Baixo|\n",
            "|     8|          Accountant| 58000|          Médio|\n",
            "|     9|          HR Officer| 47000|          Baixo|\n",
            "|    10|  Operations Manager| 62000|          Médio|\n",
            "|    11|     Project Manager| 65000|          Médio|\n",
            "|    12|      Data Scientist| 70000|           Alto|\n",
            "|    13|    Business Analyst| 53000|          Baixo|\n",
            "|    14|          IT Support| 42000|          Baixo|\n",
            "|    15|    Customer Service| 43000|          Baixo|\n",
            "|    16| Executive Assistant| 51000|          Baixo|\n",
            "|    17|       Legal Counsel| 80000|           Alto|\n",
            "|    18|   Financial Analyst| 57000|          Médio|\n",
            "|    19|  Research Scientist| 75000|           Alto|\n",
            "|    20|             Trainee| 46000|          Baixo|\n",
            "+------+--------------------+------+---------------+\n",
            "\n"
          ]
        }
      ]
    },
    {
      "cell_type": "code",
      "source": [],
      "metadata": {
        "id": "Pnd2XqqSz4pA"
      },
      "execution_count": null,
      "outputs": []
    }
  ]
}